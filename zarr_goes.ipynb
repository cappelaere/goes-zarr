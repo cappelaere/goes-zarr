from netCDF4 import Dataset
import xarray
import metpy

fileName = 'OR_ABI-L1b-RadC-M6C01_G16_s20221080001170_e20221080003543_c20221080003576.nc'

# Check file using NetCDF
nc = DataSet(fileName)
print(nc)

# use xarray
xr = xarray.open_dataset(fileName)

# convert x,y to lat,lon for Rad variable
rad =  xr.metpy.parse_cf('Rad').metpy.assign_latitude_longitude()

# now how do we insert that back into xr and write it out as a zarr file?


